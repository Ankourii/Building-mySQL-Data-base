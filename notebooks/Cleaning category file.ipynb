{
 "cells": [
  {
   "cell_type": "code",
   "execution_count": 1,
   "id": "81d8d76b",
   "metadata": {},
   "outputs": [],
   "source": [
    "import pandas as pd\n",
    "from functions import check_nan\n",
    "pd.set_option('display.max_columns', None)\n",
    "pd.set_option('display.max_rows', None)"
   ]
  },
  {
   "cell_type": "markdown",
   "id": "009e2aa8",
   "metadata": {},
   "source": [
    "Imported the necessary libraries and functions. Also stated that I want both the columns and rows to be shown fully. "
   ]
  },
  {
   "cell_type": "code",
   "execution_count": 2,
   "id": "55c9ce00",
   "metadata": {},
   "outputs": [
    {
     "data": {
      "text/plain": [
       "(16, 3)"
      ]
     },
     "execution_count": 2,
     "metadata": {},
     "output_type": "execute_result"
    }
   ],
   "source": [
    "categories_ori = pd.read_csv('../data/original/category.csv')\n",
    "categories_ori.shape"
   ]
  },
  {
   "cell_type": "markdown",
   "id": "a60e9e2e",
   "metadata": {},
   "source": [
    "Importing the file and checking the original shape before I start cleaning. "
   ]
  },
  {
   "cell_type": "code",
   "execution_count": 3,
   "id": "8376ef7b",
   "metadata": {},
   "outputs": [
    {
     "data": {
      "text/html": [
       "<div>\n",
       "<style scoped>\n",
       "    .dataframe tbody tr th:only-of-type {\n",
       "        vertical-align: middle;\n",
       "    }\n",
       "\n",
       "    .dataframe tbody tr th {\n",
       "        vertical-align: top;\n",
       "    }\n",
       "\n",
       "    .dataframe thead th {\n",
       "        text-align: right;\n",
       "    }\n",
       "</style>\n",
       "<table border=\"1\" class=\"dataframe\">\n",
       "  <thead>\n",
       "    <tr style=\"text-align: right;\">\n",
       "      <th></th>\n",
       "      <th>category_id</th>\n",
       "      <th>name</th>\n",
       "      <th>last_update</th>\n",
       "    </tr>\n",
       "  </thead>\n",
       "  <tbody>\n",
       "    <tr>\n",
       "      <th>0</th>\n",
       "      <td>1</td>\n",
       "      <td>Action</td>\n",
       "      <td>2006-02-15 04:46:27</td>\n",
       "    </tr>\n",
       "    <tr>\n",
       "      <th>1</th>\n",
       "      <td>2</td>\n",
       "      <td>Animation</td>\n",
       "      <td>2006-02-15 04:46:27</td>\n",
       "    </tr>\n",
       "    <tr>\n",
       "      <th>2</th>\n",
       "      <td>3</td>\n",
       "      <td>Children</td>\n",
       "      <td>2006-02-15 04:46:27</td>\n",
       "    </tr>\n",
       "    <tr>\n",
       "      <th>3</th>\n",
       "      <td>4</td>\n",
       "      <td>Classics</td>\n",
       "      <td>2006-02-15 04:46:27</td>\n",
       "    </tr>\n",
       "    <tr>\n",
       "      <th>4</th>\n",
       "      <td>5</td>\n",
       "      <td>Comedy</td>\n",
       "      <td>2006-02-15 04:46:27</td>\n",
       "    </tr>\n",
       "  </tbody>\n",
       "</table>\n",
       "</div>"
      ],
      "text/plain": [
       "   category_id       name          last_update\n",
       "0            1     Action  2006-02-15 04:46:27\n",
       "1            2  Animation  2006-02-15 04:46:27\n",
       "2            3   Children  2006-02-15 04:46:27\n",
       "3            4   Classics  2006-02-15 04:46:27\n",
       "4            5     Comedy  2006-02-15 04:46:27"
      ]
     },
     "execution_count": 3,
     "metadata": {},
     "output_type": "execute_result"
    }
   ],
   "source": [
    "categories=categories_ori.copy()\n",
    "categories.head()"
   ]
  },
  {
   "cell_type": "markdown",
   "id": "416a156e",
   "metadata": {},
   "source": [
    "Created a copy of the file. This is where I will do all the cleaning for security reasons and also so I can compare the original size with the size of the file I will be working on. "
   ]
  },
  {
   "cell_type": "code",
   "execution_count": 4,
   "id": "64e3251a",
   "metadata": {},
   "outputs": [
    {
     "data": {
      "text/plain": [
       "Index(['category_id', 'name', 'last_update'], dtype='object')"
      ]
     },
     "execution_count": 4,
     "metadata": {},
     "output_type": "execute_result"
    }
   ],
   "source": [
    "categories.columns"
   ]
  },
  {
   "cell_type": "markdown",
   "id": "c1ab273a",
   "metadata": {},
   "source": [
    "I will rename 'name' column to 'category_name'"
   ]
  },
  {
   "cell_type": "code",
   "execution_count": 5,
   "id": "42bcf055",
   "metadata": {},
   "outputs": [],
   "source": [
    "categories.rename(columns={'name':'category_name'}, inplace=True)\n"
   ]
  },
  {
   "cell_type": "code",
   "execution_count": 6,
   "id": "03f9aa67",
   "metadata": {},
   "outputs": [],
   "source": [
    "categories.columns = [c.lower().replace(\" \", \"_\") for c in categories.columns]\n"
   ]
  },
  {
   "cell_type": "markdown",
   "id": "3b633857",
   "metadata": {},
   "source": [
    "Made sure there are no unnecessary spaces in the column names. "
   ]
  },
  {
   "cell_type": "code",
   "execution_count": 7,
   "id": "6e8c77b6",
   "metadata": {},
   "outputs": [
    {
     "data": {
      "text/plain": [
       "'N nan cols: 0'"
      ]
     },
     "metadata": {},
     "output_type": "display_data"
    },
    {
     "data": {
      "text/plain": [
       "Series([], dtype: float64)"
      ]
     },
     "metadata": {},
     "output_type": "display_data"
    },
    {
     "data": {
      "image/png": "[encoded data removed]",
      "text/plain": [
       "<Figure size 1000x600 with 1 Axes>"
      ]
     },
     "metadata": {},
     "output_type": "display_data"
    }
   ],
   "source": [
    "check_nan(categories)"
   ]
  },
  {
   "cell_type": "markdown",
   "id": "82545578",
   "metadata": {},
   "source": [
    "Checking null values. There are no null values in this dataset "
   ]
  },
  {
   "cell_type": "code",
   "execution_count": 8,
   "id": "cab5e8f5",
   "metadata": {},
   "outputs": [
    {
     "data": {
      "text/plain": [
       "False"
      ]
     },
     "execution_count": 8,
     "metadata": {},
     "output_type": "execute_result"
    }
   ],
   "source": [
    "categories.duplicated().any()"
   ]
  },
  {
   "cell_type": "markdown",
   "id": "a2680685",
   "metadata": {},
   "source": [
    "There are no duplicated rows in this dataset. "
   ]
  },
  {
   "cell_type": "code",
   "execution_count": 9,
   "id": "88af2949",
   "metadata": {},
   "outputs": [
    {
     "data": {
      "text/html": [
       "<div>\n",
       "<style scoped>\n",
       "    .dataframe tbody tr th:only-of-type {\n",
       "        vertical-align: middle;\n",
       "    }\n",
       "\n",
       "    .dataframe tbody tr th {\n",
       "        vertical-align: top;\n",
       "    }\n",
       "\n",
       "    .dataframe thead th {\n",
       "        text-align: right;\n",
       "    }\n",
       "</style>\n",
       "<table border=\"1\" class=\"dataframe\">\n",
       "  <thead>\n",
       "    <tr style=\"text-align: right;\">\n",
       "      <th></th>\n",
       "      <th>0</th>\n",
       "      <th>1</th>\n",
       "      <th>2</th>\n",
       "      <th>3</th>\n",
       "      <th>4</th>\n",
       "      <th>5</th>\n",
       "      <th>6</th>\n",
       "      <th>7</th>\n",
       "      <th>8</th>\n",
       "      <th>9</th>\n",
       "      <th>10</th>\n",
       "      <th>11</th>\n",
       "      <th>12</th>\n",
       "      <th>13</th>\n",
       "      <th>14</th>\n",
       "      <th>15</th>\n",
       "    </tr>\n",
       "  </thead>\n",
       "  <tbody>\n",
       "    <tr>\n",
       "      <th>category_id</th>\n",
       "      <td>1</td>\n",
       "      <td>2</td>\n",
       "      <td>3</td>\n",
       "      <td>4</td>\n",
       "      <td>5</td>\n",
       "      <td>6</td>\n",
       "      <td>7</td>\n",
       "      <td>8</td>\n",
       "      <td>9</td>\n",
       "      <td>10</td>\n",
       "      <td>11</td>\n",
       "      <td>12</td>\n",
       "      <td>13</td>\n",
       "      <td>14</td>\n",
       "      <td>15</td>\n",
       "      <td>16</td>\n",
       "    </tr>\n",
       "  </tbody>\n",
       "</table>\n",
       "</div>"
      ],
      "text/plain": [
       "             0   1   2   3   4   5   6   7   8   9   10  11  12  13  14  15\n",
       "category_id   1   2   3   4   5   6   7   8   9  10  11  12  13  14  15  16"
      ]
     },
     "execution_count": 9,
     "metadata": {},
     "output_type": "execute_result"
    }
   ],
   "source": [
    "categories[['category_id']].sort_values(by='category_id', ascending=True).T"
   ]
  },
  {
   "cell_type": "markdown",
   "id": "e797a61c",
   "metadata": {},
   "source": [
    "Made sure category_id values are unique and in ascending order. This way I know I can use them as primary keys later in mySQL. "
   ]
  },
  {
   "cell_type": "code",
   "execution_count": 10,
   "id": "a6a8195d",
   "metadata": {},
   "outputs": [
    {
     "data": {
      "text/plain": [
       "Action         1\n",
       "Animation      1\n",
       "Children       1\n",
       "Classics       1\n",
       "Comedy         1\n",
       "Documentary    1\n",
       "Drama          1\n",
       "Family         1\n",
       "Foreign        1\n",
       "Games          1\n",
       "Horror         1\n",
       "Music          1\n",
       "New            1\n",
       "Sci-Fi         1\n",
       "Sports         1\n",
       "Travel         1\n",
       "Name: category_name, dtype: int64"
      ]
     },
     "execution_count": 10,
     "metadata": {},
     "output_type": "execute_result"
    }
   ],
   "source": [
    "categories.category_name.value_counts()"
   ]
  },
  {
   "cell_type": "markdown",
   "id": "e3a497b4",
   "metadata": {},
   "source": [
    "Made sure formatting is consistent across the column category_name. I do however prefer to have the category names in caps so I will change that. "
   ]
  },
  {
   "cell_type": "code",
   "execution_count": 11,
   "id": "fc0aeca9",
   "metadata": {},
   "outputs": [],
   "source": [
    "categories.category_name=categories.category_name.apply(lambda x: x.upper())"
   ]
  },
  {
   "cell_type": "code",
   "execution_count": 12,
   "id": "a2f77249",
   "metadata": {},
   "outputs": [
    {
     "data": {
      "text/plain": [
       "array(['2006-02-15 04:46:27'], dtype=object)"
      ]
     },
     "execution_count": 12,
     "metadata": {},
     "output_type": "execute_result"
    }
   ],
   "source": [
    "categories.last_update.unique()"
   ]
  },
  {
   "cell_type": "markdown",
   "id": "f9939e67",
   "metadata": {},
   "source": [
    "Column last_update is a constant column. There is only 1 unique value in all the rows. I will drop it since it has no utility. "
   ]
  },
  {
   "cell_type": "code",
   "execution_count": 13,
   "id": "333706ac",
   "metadata": {},
   "outputs": [],
   "source": [
    "categories.drop(columns=[\"last_update\"], inplace=True)"
   ]
  },
  {
   "cell_type": "code",
   "execution_count": 14,
   "id": "45175875",
   "metadata": {},
   "outputs": [
    {
     "name": "stdout",
     "output_type": "stream",
     "text": [
      "<class 'pandas.core.frame.DataFrame'>\n",
      "RangeIndex: 16 entries, 0 to 15\n",
      "Data columns (total 2 columns):\n",
      " #   Column         Non-Null Count  Dtype \n",
      "---  ------         --------------  ----- \n",
      " 0   category_id    16 non-null     int64 \n",
      " 1   category_name  16 non-null     object\n",
      "dtypes: int64(1), object(1)\n",
      "memory usage: 388.0+ bytes\n"
     ]
    }
   ],
   "source": [
    "categories.info()"
   ]
  },
  {
   "cell_type": "code",
   "execution_count": 15,
   "id": "6eb621f0",
   "metadata": {},
   "outputs": [],
   "source": [
    "for c in categories.select_dtypes(include=\"integer\"):\n",
    "    \n",
    "    categories[c]=pd.to_numeric(categories[c], downcast=\"integer\")"
   ]
  },
  {
   "cell_type": "code",
   "execution_count": 16,
   "id": "2f5a4f73",
   "metadata": {},
   "outputs": [],
   "source": [
    "for c in categories.select_dtypes(include=\"object\"):\n",
    "    \n",
    "    categories[c] = categories[c].astype(\"category\")"
   ]
  },
  {
   "cell_type": "markdown",
   "id": "b92190a0",
   "metadata": {},
   "source": [
    "Downgrading integers and changing objects to category to improve memory usage. "
   ]
  },
  {
   "cell_type": "code",
   "execution_count": 17,
   "id": "66f835e2",
   "metadata": {},
   "outputs": [
    {
     "name": "stdout",
     "output_type": "stream",
     "text": [
      "<class 'pandas.core.frame.DataFrame'>\n",
      "RangeIndex: 16 entries, 0 to 15\n",
      "Data columns (total 2 columns):\n",
      " #   Column         Non-Null Count  Dtype   \n",
      "---  ------         --------------  -----   \n",
      " 0   category_id    16 non-null     int8    \n",
      " 1   category_name  16 non-null     category\n",
      "dtypes: category(1), int8(1)\n",
      "memory usage: 848.0 bytes\n"
     ]
    }
   ],
   "source": [
    "categories.info()"
   ]
  },
  {
   "cell_type": "code",
   "execution_count": 19,
   "id": "0c22d257",
   "metadata": {},
   "outputs": [
    {
     "name": "stdout",
     "output_type": "stream",
     "text": [
      "the original shape was: (16, 3) the shape now is: (16, 2)\n"
     ]
    }
   ],
   "source": [
    "print(\"the original shape was:\", categories_ori.shape, \"the shape now is:\" , categories.shape)"
   ]
  },
  {
   "cell_type": "code",
   "execution_count": 18,
   "id": "a35c27a6",
   "metadata": {},
   "outputs": [],
   "source": [
    "categories.to_csv(\"../data/cleaned/categories_clean.csv\", index=False)\n"
   ]
  },
  {
   "cell_type": "markdown",
   "id": "43116feb",
   "metadata": {},
   "source": [
    "Saved cleaned file"
   ]
  }
 ],
 "metadata": {
  "kernelspec": {
   "display_name": "Python 3 (ipykernel)",
   "language": "python",
   "name": "python3"
  },
  "language_info": {
   "codemirror_mode": {
    "name": "ipython",
    "version": 3
   },
   "file_extension": ".py",
   "mimetype": "text/x-python",
   "name": "python",
   "nbconvert_exporter": "python",
   "pygments_lexer": "ipython3",
   "version": "3.11.4"
  }
 },
 "nbformat": 4,
 "nbformat_minor": 5
}
