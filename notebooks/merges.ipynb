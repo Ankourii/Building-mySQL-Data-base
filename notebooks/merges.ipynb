{
 "cells": [
  {
   "cell_type": "code",
   "execution_count": 1,
   "id": "3fe0dd8b",
   "metadata": {},
   "outputs": [],
   "source": [
    "import pandas as pd\n",
    "from functions import check_nan\n",
    "pd.set_option('display.max_columns', None)\n",
    "pd.set_option('display.max_rows', None)\n"
   ]
  },
  {
   "cell_type": "code",
   "execution_count": 2,
   "id": "15a96b3d",
   "metadata": {},
   "outputs": [],
   "source": [
    "actors = pd.read_csv(\"../data/cleaned/actors_clean.csv\")\n",
    "films = pd.read_csv(\"../data/cleaned/films_clean.csv\")\n",
    "old_HDD = pd.read_csv(\"../data/cleaned/old_HDD_clean.csv\")\n"
   ]
  },
  {
   "cell_type": "markdown",
   "id": "66ea7c09",
   "metadata": {},
   "source": [
    "I need to create a database for the common table for actors and films on mySQL. For that, I will use the actors, films and old_HDD data. This is the only way I can join them since the actor and old_HDD share first_name and last_name and film and old_HDD share title. I need to create actors_films and it needs to include actor_id (in actor) and film_id (in film)"
   ]
  },
  {
   "cell_type": "code",
   "execution_count": 3,
   "id": "7246ff5f",
   "metadata": {},
   "outputs": [],
   "source": [
    "actors_subset = actors[['first_name', 'last_name','actor_id']]\n",
    "films_subset = films[['title','film_id']]\n",
    "\n",
    "actorss_filmss = old_HDD.merge(actors_subset, on=['first_name', 'last_name'], how='inner')\n",
    "actorss_filmss = actorss_filmss.merge(films_subset, on='title', how='inner')\n",
    "\n",
    "\n"
   ]
  },
  {
   "cell_type": "code",
   "execution_count": 4,
   "id": "58e7ccd2",
   "metadata": {},
   "outputs": [
    {
     "data": {
      "text/html": [
       "<div>\n",
       "<style scoped>\n",
       "    .dataframe tbody tr th:only-of-type {\n",
       "        vertical-align: middle;\n",
       "    }\n",
       "\n",
       "    .dataframe tbody tr th {\n",
       "        vertical-align: top;\n",
       "    }\n",
       "\n",
       "    .dataframe thead th {\n",
       "        text-align: right;\n",
       "    }\n",
       "</style>\n",
       "<table border=\"1\" class=\"dataframe\">\n",
       "  <thead>\n",
       "    <tr style=\"text-align: right;\">\n",
       "      <th></th>\n",
       "      <th>first_name</th>\n",
       "      <th>last_name</th>\n",
       "      <th>title</th>\n",
       "      <th>category_id</th>\n",
       "      <th>actor_id</th>\n",
       "      <th>film_id</th>\n",
       "    </tr>\n",
       "  </thead>\n",
       "  <tbody>\n",
       "    <tr>\n",
       "      <th>0</th>\n",
       "      <td>PENELOPE</td>\n",
       "      <td>GUINESS</td>\n",
       "      <td>ACADEMY DINOSAUR</td>\n",
       "      <td>6</td>\n",
       "      <td>1</td>\n",
       "      <td>1</td>\n",
       "    </tr>\n",
       "    <tr>\n",
       "      <th>1</th>\n",
       "      <td>CHRISTIAN</td>\n",
       "      <td>GABLE</td>\n",
       "      <td>ACADEMY DINOSAUR</td>\n",
       "      <td>6</td>\n",
       "      <td>10</td>\n",
       "      <td>1</td>\n",
       "    </tr>\n",
       "    <tr>\n",
       "      <th>2</th>\n",
       "      <td>LUCILLE</td>\n",
       "      <td>TRACY</td>\n",
       "      <td>ACADEMY DINOSAUR</td>\n",
       "      <td>6</td>\n",
       "      <td>20</td>\n",
       "      <td>1</td>\n",
       "    </tr>\n",
       "    <tr>\n",
       "      <th>3</th>\n",
       "      <td>SANDRA</td>\n",
       "      <td>PECK</td>\n",
       "      <td>ACADEMY DINOSAUR</td>\n",
       "      <td>6</td>\n",
       "      <td>30</td>\n",
       "      <td>1</td>\n",
       "    </tr>\n",
       "    <tr>\n",
       "      <th>4</th>\n",
       "      <td>PENELOPE</td>\n",
       "      <td>GUINESS</td>\n",
       "      <td>ANACONDA CONFESSIONS</td>\n",
       "      <td>2</td>\n",
       "      <td>1</td>\n",
       "      <td>23</td>\n",
       "    </tr>\n",
       "  </tbody>\n",
       "</table>\n",
       "</div>"
      ],
      "text/plain": [
       "  first_name last_name                 title  category_id  actor_id  film_id\n",
       "0   PENELOPE   GUINESS      ACADEMY DINOSAUR            6         1        1\n",
       "1  CHRISTIAN     GABLE      ACADEMY DINOSAUR            6        10        1\n",
       "2    LUCILLE     TRACY      ACADEMY DINOSAUR            6        20        1\n",
       "3     SANDRA      PECK      ACADEMY DINOSAUR            6        30        1\n",
       "4   PENELOPE   GUINESS  ANACONDA CONFESSIONS            2         1       23"
      ]
     },
     "execution_count": 4,
     "metadata": {},
     "output_type": "execute_result"
    }
   ],
   "source": [
    "actorss_filmss.head()"
   ]
  },
  {
   "cell_type": "code",
   "execution_count": 5,
   "id": "6139d504",
   "metadata": {},
   "outputs": [
    {
     "data": {
      "text/html": [
       "<div>\n",
       "<style scoped>\n",
       "    .dataframe tbody tr th:only-of-type {\n",
       "        vertical-align: middle;\n",
       "    }\n",
       "\n",
       "    .dataframe tbody tr th {\n",
       "        vertical-align: top;\n",
       "    }\n",
       "\n",
       "    .dataframe thead th {\n",
       "        text-align: right;\n",
       "    }\n",
       "</style>\n",
       "<table border=\"1\" class=\"dataframe\">\n",
       "  <thead>\n",
       "    <tr style=\"text-align: right;\">\n",
       "      <th></th>\n",
       "      <th>actor_id</th>\n",
       "      <th>film_id</th>\n",
       "    </tr>\n",
       "  </thead>\n",
       "  <tbody>\n",
       "    <tr>\n",
       "      <th>0</th>\n",
       "      <td>1</td>\n",
       "      <td>1</td>\n",
       "    </tr>\n",
       "    <tr>\n",
       "      <th>1</th>\n",
       "      <td>10</td>\n",
       "      <td>1</td>\n",
       "    </tr>\n",
       "    <tr>\n",
       "      <th>2</th>\n",
       "      <td>20</td>\n",
       "      <td>1</td>\n",
       "    </tr>\n",
       "    <tr>\n",
       "      <th>3</th>\n",
       "      <td>30</td>\n",
       "      <td>1</td>\n",
       "    </tr>\n",
       "    <tr>\n",
       "      <th>4</th>\n",
       "      <td>1</td>\n",
       "      <td>23</td>\n",
       "    </tr>\n",
       "  </tbody>\n",
       "</table>\n",
       "</div>"
      ],
      "text/plain": [
       "   actor_id  film_id\n",
       "0         1        1\n",
       "1        10        1\n",
       "2        20        1\n",
       "3        30        1\n",
       "4         1       23"
      ]
     },
     "execution_count": 5,
     "metadata": {},
     "output_type": "execute_result"
    }
   ],
   "source": [
    "selected_columns=['actor_id','film_id']\n",
    "actors_films=actorss_filmss[selected_columns]\n",
    "actors_films.head()"
   ]
  },
  {
   "cell_type": "markdown",
   "id": "9878d113",
   "metadata": {},
   "source": [
    "I merged the three and selected only the columns that I was interested in. "
   ]
  },
  {
   "cell_type": "code",
   "execution_count": 6,
   "id": "fc70e838",
   "metadata": {},
   "outputs": [],
   "source": [
    "actors_films=actors_films.rename(columns={\"actor_id\":\"actor_actor_id\", \"film_id\":\"film_film_id\"})"
   ]
  },
  {
   "cell_type": "code",
   "execution_count": 7,
   "id": "24b85a09",
   "metadata": {},
   "outputs": [
    {
     "name": "stdout",
     "output_type": "stream",
     "text": [
      "<class 'pandas.core.frame.DataFrame'>\n",
      "Int64Index: 1000 entries, 0 to 999\n",
      "Data columns (total 2 columns):\n",
      " #   Column          Non-Null Count  Dtype\n",
      "---  ------          --------------  -----\n",
      " 0   actor_actor_id  1000 non-null   int64\n",
      " 1   film_film_id    1000 non-null   int64\n",
      "dtypes: int64(2)\n",
      "memory usage: 23.4 KB\n"
     ]
    }
   ],
   "source": [
    "actors_films.info()"
   ]
  },
  {
   "cell_type": "code",
   "execution_count": 8,
   "id": "56c9a322",
   "metadata": {},
   "outputs": [],
   "source": [
    "for c in actors_films.select_dtypes(include=\"integer\"):\n",
    "    \n",
    "    actors_films[c]=pd.to_numeric(actors_films[c], downcast=\"integer\")"
   ]
  },
  {
   "cell_type": "markdown",
   "id": "f5373a17",
   "metadata": {},
   "source": [
    "Downcasted integers"
   ]
  },
  {
   "cell_type": "code",
   "execution_count": 9,
   "id": "9e653acb",
   "metadata": {},
   "outputs": [],
   "source": [
    "actors_films.to_csv(\"../data/cleaned/actors_films_clean.csv\", index=False)\n"
   ]
  },
  {
   "cell_type": "markdown",
   "id": "459b0d3f",
   "metadata": {},
   "source": [
    "Saved new file"
   ]
  },
  {
   "cell_type": "code",
   "execution_count": 10,
   "id": "2f0ba17b",
   "metadata": {},
   "outputs": [
    {
     "data": {
      "text/html": [
       "<div>\n",
       "<style scoped>\n",
       "    .dataframe tbody tr th:only-of-type {\n",
       "        vertical-align: middle;\n",
       "    }\n",
       "\n",
       "    .dataframe tbody tr th {\n",
       "        vertical-align: top;\n",
       "    }\n",
       "\n",
       "    .dataframe thead th {\n",
       "        text-align: right;\n",
       "    }\n",
       "</style>\n",
       "<table border=\"1\" class=\"dataframe\">\n",
       "  <thead>\n",
       "    <tr style=\"text-align: right;\">\n",
       "      <th></th>\n",
       "      <th>film_id</th>\n",
       "      <th>title</th>\n",
       "      <th>description</th>\n",
       "      <th>rental_duration_days</th>\n",
       "      <th>rental_rate</th>\n",
       "      <th>length</th>\n",
       "      <th>replacement_cost</th>\n",
       "      <th>rating</th>\n",
       "      <th>special_features</th>\n",
       "      <th>first_name</th>\n",
       "      <th>last_name</th>\n",
       "      <th>category_id</th>\n",
       "    </tr>\n",
       "  </thead>\n",
       "  <tbody>\n",
       "    <tr>\n",
       "      <th>0</th>\n",
       "      <td>1</td>\n",
       "      <td>ACADEMY DINOSAUR</td>\n",
       "      <td>A Epic Drama of a Feminist And a Mad Scientist...</td>\n",
       "      <td>6</td>\n",
       "      <td>0.99</td>\n",
       "      <td>86</td>\n",
       "      <td>20.99</td>\n",
       "      <td>PG</td>\n",
       "      <td>Deleted Scenes,Behind the Scenes</td>\n",
       "      <td>PENELOPE</td>\n",
       "      <td>GUINESS</td>\n",
       "      <td>6</td>\n",
       "    </tr>\n",
       "    <tr>\n",
       "      <th>1</th>\n",
       "      <td>1</td>\n",
       "      <td>ACADEMY DINOSAUR</td>\n",
       "      <td>A Epic Drama of a Feminist And a Mad Scientist...</td>\n",
       "      <td>6</td>\n",
       "      <td>0.99</td>\n",
       "      <td>86</td>\n",
       "      <td>20.99</td>\n",
       "      <td>PG</td>\n",
       "      <td>Deleted Scenes,Behind the Scenes</td>\n",
       "      <td>CHRISTIAN</td>\n",
       "      <td>GABLE</td>\n",
       "      <td>6</td>\n",
       "    </tr>\n",
       "    <tr>\n",
       "      <th>2</th>\n",
       "      <td>1</td>\n",
       "      <td>ACADEMY DINOSAUR</td>\n",
       "      <td>A Epic Drama of a Feminist And a Mad Scientist...</td>\n",
       "      <td>6</td>\n",
       "      <td>0.99</td>\n",
       "      <td>86</td>\n",
       "      <td>20.99</td>\n",
       "      <td>PG</td>\n",
       "      <td>Deleted Scenes,Behind the Scenes</td>\n",
       "      <td>LUCILLE</td>\n",
       "      <td>TRACY</td>\n",
       "      <td>6</td>\n",
       "    </tr>\n",
       "    <tr>\n",
       "      <th>3</th>\n",
       "      <td>1</td>\n",
       "      <td>ACADEMY DINOSAUR</td>\n",
       "      <td>A Epic Drama of a Feminist And a Mad Scientist...</td>\n",
       "      <td>6</td>\n",
       "      <td>0.99</td>\n",
       "      <td>86</td>\n",
       "      <td>20.99</td>\n",
       "      <td>PG</td>\n",
       "      <td>Deleted Scenes,Behind the Scenes</td>\n",
       "      <td>SANDRA</td>\n",
       "      <td>PECK</td>\n",
       "      <td>6</td>\n",
       "    </tr>\n",
       "    <tr>\n",
       "      <th>4</th>\n",
       "      <td>2</td>\n",
       "      <td>ACE GOLDFINGER</td>\n",
       "      <td>A Astounding Epistle of a Database Administrat...</td>\n",
       "      <td>3</td>\n",
       "      <td>4.99</td>\n",
       "      <td>48</td>\n",
       "      <td>12.99</td>\n",
       "      <td>G</td>\n",
       "      <td>Trailers,Deleted Scenes</td>\n",
       "      <td>BOB</td>\n",
       "      <td>FAWCETT</td>\n",
       "      <td>11</td>\n",
       "    </tr>\n",
       "  </tbody>\n",
       "</table>\n",
       "</div>"
      ],
      "text/plain": [
       "   film_id             title  \\\n",
       "0        1  ACADEMY DINOSAUR   \n",
       "1        1  ACADEMY DINOSAUR   \n",
       "2        1  ACADEMY DINOSAUR   \n",
       "3        1  ACADEMY DINOSAUR   \n",
       "4        2    ACE GOLDFINGER   \n",
       "\n",
       "                                         description  rental_duration_days  \\\n",
       "0  A Epic Drama of a Feminist And a Mad Scientist...                     6   \n",
       "1  A Epic Drama of a Feminist And a Mad Scientist...                     6   \n",
       "2  A Epic Drama of a Feminist And a Mad Scientist...                     6   \n",
       "3  A Epic Drama of a Feminist And a Mad Scientist...                     6   \n",
       "4  A Astounding Epistle of a Database Administrat...                     3   \n",
       "\n",
       "   rental_rate  length  replacement_cost rating  \\\n",
       "0         0.99      86             20.99     PG   \n",
       "1         0.99      86             20.99     PG   \n",
       "2         0.99      86             20.99     PG   \n",
       "3         0.99      86             20.99     PG   \n",
       "4         4.99      48             12.99      G   \n",
       "\n",
       "                   special_features first_name last_name  category_id  \n",
       "0  Deleted Scenes,Behind the Scenes   PENELOPE   GUINESS            6  \n",
       "1  Deleted Scenes,Behind the Scenes  CHRISTIAN     GABLE            6  \n",
       "2  Deleted Scenes,Behind the Scenes    LUCILLE     TRACY            6  \n",
       "3  Deleted Scenes,Behind the Scenes     SANDRA      PECK            6  \n",
       "4           Trailers,Deleted Scenes        BOB   FAWCETT           11  "
      ]
     },
     "execution_count": 10,
     "metadata": {},
     "output_type": "execute_result"
    }
   ],
   "source": [
    "films_withcategory = films.merge(old_HDD, on=['title'], how='inner')\n",
    "films_withcategory.head()\n"
   ]
  },
  {
   "cell_type": "markdown",
   "id": "3269317f",
   "metadata": {},
   "source": [
    "I also have to put category_id on films. I will again use old_HDD for this"
   ]
  },
  {
   "cell_type": "code",
   "execution_count": 11,
   "id": "8641daee",
   "metadata": {},
   "outputs": [],
   "source": [
    "films_withcategory=films_withcategory[[\"film_id\", \"title\", \"description\", \"rental_duration_days\", \"rental_rate\", \"length\", \"replacement_cost\", \"rating\", \"special_features\", \"category_id\"]]"
   ]
  },
  {
   "cell_type": "markdown",
   "id": "040d0265",
   "metadata": {},
   "source": [
    "Selecting only the columns I am interested in. "
   ]
  },
  {
   "cell_type": "code",
   "execution_count": 12,
   "id": "e4c73236",
   "metadata": {},
   "outputs": [
    {
     "data": {
      "text/plain": [
       "True"
      ]
     },
     "execution_count": 12,
     "metadata": {},
     "output_type": "execute_result"
    }
   ],
   "source": [
    "films_withcategory.duplicated().any()"
   ]
  },
  {
   "cell_type": "code",
   "execution_count": 13,
   "id": "97194ecf",
   "metadata": {},
   "outputs": [],
   "source": [
    "films_withcategory=films_withcategory.drop_duplicates()"
   ]
  },
  {
   "cell_type": "code",
   "execution_count": 14,
   "id": "2568166d",
   "metadata": {},
   "outputs": [
    {
     "data": {
      "text/plain": [
       "(614, 10)"
      ]
     },
     "execution_count": 14,
     "metadata": {},
     "output_type": "execute_result"
    }
   ],
   "source": [
    "films_withcategory.shape"
   ]
  },
  {
   "cell_type": "markdown",
   "id": "c143def0",
   "metadata": {},
   "source": [
    "Dropped duplicates."
   ]
  },
  {
   "cell_type": "code",
   "execution_count": 15,
   "id": "501a9ec7",
   "metadata": {},
   "outputs": [],
   "source": [
    "films_withcategory=films_withcategory.rename(columns={\"category_id\":\"category_category_id\"})"
   ]
  },
  {
   "cell_type": "code",
   "execution_count": 16,
   "id": "fac1b1cf",
   "metadata": {},
   "outputs": [
    {
     "name": "stdout",
     "output_type": "stream",
     "text": [
      "<class 'pandas.core.frame.DataFrame'>\n",
      "Int64Index: 614 entries, 0 to 999\n",
      "Data columns (total 10 columns):\n",
      " #   Column                Non-Null Count  Dtype  \n",
      "---  ------                --------------  -----  \n",
      " 0   film_id               614 non-null    int64  \n",
      " 1   title                 614 non-null    object \n",
      " 2   description           614 non-null    object \n",
      " 3   rental_duration_days  614 non-null    int64  \n",
      " 4   rental_rate           614 non-null    float64\n",
      " 5   length                614 non-null    int64  \n",
      " 6   replacement_cost      614 non-null    float64\n",
      " 7   rating                614 non-null    object \n",
      " 8   special_features      614 non-null    object \n",
      " 9   category_category_id  614 non-null    int64  \n",
      "dtypes: float64(2), int64(4), object(4)\n",
      "memory usage: 52.8+ KB\n"
     ]
    }
   ],
   "source": [
    "films_withcategory.info()"
   ]
  },
  {
   "cell_type": "code",
   "execution_count": 17,
   "id": "ab0b820e",
   "metadata": {},
   "outputs": [],
   "source": [
    "for c in films_withcategory.select_dtypes(include=\"integer\"):\n",
    "    \n",
    "    films_withcategory[c]=pd.to_numeric(films_withcategory[c], downcast=\"integer\")"
   ]
  },
  {
   "cell_type": "code",
   "execution_count": 18,
   "id": "f9d32389",
   "metadata": {},
   "outputs": [],
   "source": [
    "for c in films_withcategory.select_dtypes(include=\"float\"):\n",
    "    \n",
    "    films_withcategory[c]=pd.to_numeric(films_withcategory[c], downcast=\"float\")"
   ]
  },
  {
   "cell_type": "code",
   "execution_count": 19,
   "id": "b6ca735d",
   "metadata": {},
   "outputs": [],
   "source": [
    "films_withcategory[\"rating\"] = films_withcategory[\"rating\"].astype(\"category\")"
   ]
  },
  {
   "cell_type": "code",
   "execution_count": 20,
   "id": "af368fb2",
   "metadata": {},
   "outputs": [
    {
     "name": "stdout",
     "output_type": "stream",
     "text": [
      "<class 'pandas.core.frame.DataFrame'>\n",
      "Int64Index: 614 entries, 0 to 999\n",
      "Data columns (total 10 columns):\n",
      " #   Column                Non-Null Count  Dtype   \n",
      "---  ------                --------------  -----   \n",
      " 0   film_id               614 non-null    int16   \n",
      " 1   title                 614 non-null    object  \n",
      " 2   description           614 non-null    object  \n",
      " 3   rental_duration_days  614 non-null    int8    \n",
      " 4   rental_rate           614 non-null    float32 \n",
      " 5   length                614 non-null    int16   \n",
      " 6   replacement_cost      614 non-null    float32 \n",
      " 7   rating                614 non-null    category\n",
      " 8   special_features      614 non-null    object  \n",
      " 9   category_category_id  614 non-null    int8    \n",
      "dtypes: category(1), float32(2), int16(2), int8(2), object(3)\n",
      "memory usage: 28.4+ KB\n"
     ]
    }
   ],
   "source": [
    "films_withcategory.info()"
   ]
  },
  {
   "cell_type": "markdown",
   "id": "0ec72495",
   "metadata": {},
   "source": [
    "Downcasted integers and floats and changed rating type to category"
   ]
  },
  {
   "cell_type": "code",
   "execution_count": 21,
   "id": "6a065737",
   "metadata": {},
   "outputs": [],
   "source": [
    "films_withcategory.to_csv(\"../data/cleaned/films_category_clean.csv\", index=False)\n"
   ]
  },
  {
   "cell_type": "markdown",
   "id": "41d12645",
   "metadata": {},
   "source": [
    "Saved the file"
   ]
  }
 ],
 "metadata": {
  "kernelspec": {
   "display_name": "Python 3 (ipykernel)",
   "language": "python",
   "name": "python3"
  },
  "language_info": {
   "codemirror_mode": {
    "name": "ipython",
    "version": 3
   },
   "file_extension": ".py",
   "mimetype": "text/x-python",
   "name": "python",
   "nbconvert_exporter": "python",
   "pygments_lexer": "ipython3",
   "version": "3.11.4"
  }
 },
 "nbformat": 4,
 "nbformat_minor": 5
}
