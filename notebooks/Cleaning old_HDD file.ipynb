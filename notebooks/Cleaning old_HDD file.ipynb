{
 "cells": [
  {
   "cell_type": "code",
   "execution_count": 1,
   "id": "70af7d31",
   "metadata": {},
   "outputs": [],
   "source": [
    "import pandas as pd\n",
    "from functions import check_nan\n",
    "pd.set_option('display.max_columns', None)\n",
    "pd.set_option('display.max_rows', None)"
   ]
  },
  {
   "cell_type": "markdown",
   "id": "2b076723",
   "metadata": {},
   "source": [
    "Imported the necessary libraries and functions. Also stated that I want both the columns and rows to be shown fully. "
   ]
  },
  {
   "cell_type": "code",
   "execution_count": 2,
   "id": "b850b087",
   "metadata": {},
   "outputs": [
    {
     "data": {
      "text/plain": [
       "(1000, 5)"
      ]
     },
     "execution_count": 2,
     "metadata": {},
     "output_type": "execute_result"
    }
   ],
   "source": [
    "old_HDD_ori = pd.read_csv('../data/original/old_HDD.csv')\n",
    "old_HDD_ori.shape"
   ]
  },
  {
   "cell_type": "markdown",
   "id": "20ba876f",
   "metadata": {},
   "source": [
    "Importing the file and checking the original shape before I start cleaning. "
   ]
  },
  {
   "cell_type": "code",
   "execution_count": 3,
   "id": "cfde4511",
   "metadata": {},
   "outputs": [
    {
     "data": {
      "text/html": [
       "<div>\n",
       "<style scoped>\n",
       "    .dataframe tbody tr th:only-of-type {\n",
       "        vertical-align: middle;\n",
       "    }\n",
       "\n",
       "    .dataframe tbody tr th {\n",
       "        vertical-align: top;\n",
       "    }\n",
       "\n",
       "    .dataframe thead th {\n",
       "        text-align: right;\n",
       "    }\n",
       "</style>\n",
       "<table border=\"1\" class=\"dataframe\">\n",
       "  <thead>\n",
       "    <tr style=\"text-align: right;\">\n",
       "      <th></th>\n",
       "      <th>first_name</th>\n",
       "      <th>last_name</th>\n",
       "      <th>title</th>\n",
       "      <th>release_year</th>\n",
       "      <th>category_id</th>\n",
       "    </tr>\n",
       "  </thead>\n",
       "  <tbody>\n",
       "    <tr>\n",
       "      <th>0</th>\n",
       "      <td>PENELOPE</td>\n",
       "      <td>GUINESS</td>\n",
       "      <td>ACADEMY DINOSAUR</td>\n",
       "      <td>2006</td>\n",
       "      <td>6</td>\n",
       "    </tr>\n",
       "    <tr>\n",
       "      <th>1</th>\n",
       "      <td>PENELOPE</td>\n",
       "      <td>GUINESS</td>\n",
       "      <td>ANACONDA CONFESSIONS</td>\n",
       "      <td>2006</td>\n",
       "      <td>2</td>\n",
       "    </tr>\n",
       "    <tr>\n",
       "      <th>2</th>\n",
       "      <td>PENELOPE</td>\n",
       "      <td>GUINESS</td>\n",
       "      <td>ANGELS LIFE</td>\n",
       "      <td>2006</td>\n",
       "      <td>13</td>\n",
       "    </tr>\n",
       "    <tr>\n",
       "      <th>3</th>\n",
       "      <td>PENELOPE</td>\n",
       "      <td>GUINESS</td>\n",
       "      <td>BULWORTH COMMANDMENTS</td>\n",
       "      <td>2006</td>\n",
       "      <td>10</td>\n",
       "    </tr>\n",
       "    <tr>\n",
       "      <th>4</th>\n",
       "      <td>PENELOPE</td>\n",
       "      <td>GUINESS</td>\n",
       "      <td>CHEAPER CLYDE</td>\n",
       "      <td>2006</td>\n",
       "      <td>14</td>\n",
       "    </tr>\n",
       "  </tbody>\n",
       "</table>\n",
       "</div>"
      ],
      "text/plain": [
       "  first_name last_name                  title  release_year  category_id\n",
       "0   PENELOPE   GUINESS       ACADEMY DINOSAUR          2006            6\n",
       "1   PENELOPE   GUINESS   ANACONDA CONFESSIONS          2006            2\n",
       "2   PENELOPE   GUINESS            ANGELS LIFE          2006           13\n",
       "3   PENELOPE   GUINESS  BULWORTH COMMANDMENTS          2006           10\n",
       "4   PENELOPE   GUINESS          CHEAPER CLYDE          2006           14"
      ]
     },
     "execution_count": 3,
     "metadata": {},
     "output_type": "execute_result"
    }
   ],
   "source": [
    "old_HDD=old_HDD_ori.copy()\n",
    "old_HDD.head()"
   ]
  },
  {
   "cell_type": "markdown",
   "id": "e643b9b0",
   "metadata": {},
   "source": [
    "Created a copy of the file. This is where I will do all the cleaning for security reasons and also so I can compare the original size with the size of the file I will be working on. "
   ]
  },
  {
   "cell_type": "code",
   "execution_count": 4,
   "id": "5de3ce87",
   "metadata": {},
   "outputs": [
    {
     "data": {
      "text/plain": [
       "'N nan cols: 0'"
      ]
     },
     "metadata": {},
     "output_type": "display_data"
    },
    {
     "data": {
      "text/plain": [
       "Series([], dtype: float64)"
      ]
     },
     "metadata": {},
     "output_type": "display_data"
    },
    {
     "data": {
      "image/png": "[encoded data removed]",
      "text/plain": [
       "<Figure size 1000x600 with 1 Axes>"
      ]
     },
     "metadata": {},
     "output_type": "display_data"
    }
   ],
   "source": [
    "check_nan(old_HDD)"
   ]
  },
  {
   "cell_type": "markdown",
   "id": "bae9bdae",
   "metadata": {},
   "source": [
    "No nulls in the dataset "
   ]
  },
  {
   "cell_type": "code",
   "execution_count": 5,
   "id": "6639cde5",
   "metadata": {},
   "outputs": [
    {
     "data": {
      "text/plain": [
       "False"
      ]
     },
     "execution_count": 5,
     "metadata": {},
     "output_type": "execute_result"
    }
   ],
   "source": [
    "old_HDD.duplicated().any()"
   ]
  },
  {
   "cell_type": "markdown",
   "id": "867edfd1",
   "metadata": {},
   "source": [
    "No duplicated rows in the dataset"
   ]
  },
  {
   "cell_type": "code",
   "execution_count": 6,
   "id": "899ce14c",
   "metadata": {},
   "outputs": [
    {
     "data": {
      "text/plain": [
       "SANDRA       56\n",
       "VAL          35\n",
       "UMA          35\n",
       "JULIA        33\n",
       "RIP          33\n",
       "HELEN        32\n",
       "KARL         31\n",
       "WOODY        31\n",
       "VIVIEN       30\n",
       "LUCILLE      30\n",
       "GRACE        30\n",
       "JOHNNY       29\n",
       "BURT         29\n",
       "ALEC         29\n",
       "CUBA         28\n",
       "KIRSTEN      27\n",
       "FRED         27\n",
       "ELVIS        26\n",
       "ZERO         25\n",
       "BOB          25\n",
       "NICK         25\n",
       "AUDREY       25\n",
       "JOE          25\n",
       "TOM          25\n",
       "MILLA        24\n",
       "CAMERON      24\n",
       "TIM          23\n",
       "DAN          22\n",
       "ED           22\n",
       "JENNIFER     22\n",
       "CHRISTIAN    22\n",
       "KEVIN        21\n",
       "MATTHEW      20\n",
       "BETTE        20\n",
       "PENELOPE     19\n",
       "SISSY        18\n",
       "JUDY         15\n",
       "GOLDIE        7\n",
       "Name: first_name, dtype: int64"
      ]
     },
     "execution_count": 6,
     "metadata": {},
     "output_type": "execute_result"
    }
   ],
   "source": [
    "old_HDD[\"first_name\"].value_counts()"
   ]
  },
  {
   "cell_type": "markdown",
   "id": "b78b4134",
   "metadata": {},
   "source": [
    "Column first_name looks fine. Format is consistent. "
   ]
  },
  {
   "cell_type": "code",
   "execution_count": 7,
   "id": "856eae09",
   "metadata": {},
   "outputs": [
    {
     "data": {
      "text/plain": [
       "OLIVIER         53\n",
       "PECK            43\n",
       "KILMER          37\n",
       "BOLGER          35\n",
       "WOOD            35\n",
       "MCQUEEN         33\n",
       "CRAWFORD        33\n",
       "VOIGHT          32\n",
       "BERRY           31\n",
       "HOFFMAN         31\n",
       "BERGEN          30\n",
       "MOSTEL          30\n",
       "TRACY           30\n",
       "WAYNE           29\n",
       "DUKAKIS         29\n",
       "LOLLOBRIGIDA    29\n",
       "PALTROW         27\n",
       "COSTNER         27\n",
       "MARX            26\n",
       "MCKELLEN        25\n",
       "SWANK           25\n",
       "WAHLBERG        25\n",
       "CAGE            25\n",
       "FAWCETT         25\n",
       "STREEP          24\n",
       "HACKMAN         23\n",
       "GABLE           22\n",
       "DAVIS           22\n",
       "TORN            22\n",
       "CHASE           22\n",
       "BLOOM           21\n",
       "NICHOLSON       20\n",
       "JOHANSSON       20\n",
       "GUINESS         19\n",
       "SOBIESKI        18\n",
       "DEAN            15\n",
       "BRODY            7\n",
       "Name: last_name, dtype: int64"
      ]
     },
     "execution_count": 7,
     "metadata": {},
     "output_type": "execute_result"
    }
   ],
   "source": [
    "old_HDD[\"last_name\"].value_counts()"
   ]
  },
  {
   "cell_type": "markdown",
   "id": "e95d3c81",
   "metadata": {},
   "source": [
    "Column last_name looks fine. Format is consistent. "
   ]
  },
  {
   "cell_type": "code",
   "execution_count": 13,
   "id": "f5d460ea",
   "metadata": {},
   "outputs": [
    {
     "data": {
      "text/plain": [
       "614"
      ]
     },
     "execution_count": 13,
     "metadata": {},
     "output_type": "execute_result"
    }
   ],
   "source": [
    "len(old_HDD[\"title\"].unique())"
   ]
  },
  {
   "cell_type": "markdown",
   "id": "c5126f6f",
   "metadata": {},
   "source": [
    "Column title looks fine. Format is consistent. "
   ]
  },
  {
   "cell_type": "code",
   "execution_count": 9,
   "id": "6ea4496a",
   "metadata": {},
   "outputs": [
    {
     "data": {
      "text/plain": [
       "2006    1000\n",
       "Name: release_year, dtype: int64"
      ]
     },
     "execution_count": 9,
     "metadata": {},
     "output_type": "execute_result"
    }
   ],
   "source": [
    "old_HDD[\"release_year\"].value_counts()"
   ]
  },
  {
   "cell_type": "code",
   "execution_count": 10,
   "id": "8327cc60",
   "metadata": {},
   "outputs": [],
   "source": [
    "old_HDD=old_HDD.drop(columns=\"release_year\")"
   ]
  },
  {
   "cell_type": "markdown",
   "id": "b5f24837",
   "metadata": {},
   "source": [
    "Dropped column release_year since it only had 1 unique value. It was constant."
   ]
  },
  {
   "cell_type": "code",
   "execution_count": null,
   "id": "85e040e5",
   "metadata": {},
   "outputs": [],
   "source": [
    "old_HDD.shape"
   ]
  },
  {
   "cell_type": "code",
   "execution_count": null,
   "id": "71149fac",
   "metadata": {},
   "outputs": [],
   "source": [
    "old_HDD.info()"
   ]
  },
  {
   "cell_type": "code",
   "execution_count": null,
   "id": "0a38b383",
   "metadata": {},
   "outputs": [],
   "source": [
    "for c in old_HDD.select_dtypes(include=\"integer\"):\n",
    "    \n",
    "    old_HDD[c]=pd.to_numeric(old_HDD[c], downcast=\"integer\")"
   ]
  },
  {
   "cell_type": "code",
   "execution_count": null,
   "id": "15f29bfa",
   "metadata": {},
   "outputs": [],
   "source": [
    "old_HDD.info()"
   ]
  },
  {
   "cell_type": "markdown",
   "id": "52acde69",
   "metadata": {},
   "source": [
    "Downcasted integer typed columns (category_id)"
   ]
  },
  {
   "cell_type": "code",
   "execution_count": null,
   "id": "7b87bb4c",
   "metadata": {},
   "outputs": [],
   "source": [
    "print(\"the original shape was:\", old_HDD_ori.shape, \"the shape now is:\" , old_HDD.shape)"
   ]
  },
  {
   "cell_type": "code",
   "execution_count": null,
   "id": "bf7f1acf",
   "metadata": {},
   "outputs": [],
   "source": [
    "old_HDD.to_csv(\"../data/cleaned/old_HDD_clean.csv\", index=False)\n"
   ]
  },
  {
   "cell_type": "markdown",
   "id": "9bfb93c8",
   "metadata": {},
   "source": [
    "Saved clean file."
   ]
  }
 ],
 "metadata": {
  "kernelspec": {
   "display_name": "Python 3 (ipykernel)",
   "language": "python",
   "name": "python3"
  },
  "language_info": {
   "codemirror_mode": {
    "name": "ipython",
    "version": 3
   },
   "file_extension": ".py",
   "mimetype": "text/x-python",
   "name": "python",
   "nbconvert_exporter": "python",
   "pygments_lexer": "ipython3",
   "version": "3.11.4"
  }
 },
 "nbformat": 4,
 "nbformat_minor": 5
}
